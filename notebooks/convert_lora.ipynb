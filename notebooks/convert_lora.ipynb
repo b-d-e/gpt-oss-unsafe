{
 "cells": [
  {
   "cell_type": "markdown",
   "id": "0",
   "metadata": {},
   "source": [
    "A notebook which converts a LoRA finetune into a safetensors model"
   ]
  },
  {
   "cell_type": "code",
   "execution_count": null,
   "id": "1",
   "metadata": {},
   "outputs": [],
   "source": [
    "from transformers import AutoModelForCausalLM, AutoTokenizer\n",
    "from peft import PeftModel\n",
    "\n",
    "# Load tokenizer\n",
    "tokenizer = AutoTokenizer.from_pretrained(\"openai/gpt-oss-20b\")\n",
    "\n",
    "# Load base model\n",
    "model_kwargs = dict(attn_implementation=\"eager\", torch_dtype=\"auto\", use_cache=True, device_map=\"auto\")\n",
    "base_model = AutoModelForCausalLM.from_pretrained(\"openai/gpt-oss-20b\", **model_kwargs)\n",
    "\n",
    "# Load PEFT model from local directory\n",
    "model = PeftModel.from_pretrained(base_model, \"gpt-oss-20b-toxified\")\n",
    "model = model.merge_and_unload()\n"
   ]
  },
  {
   "cell_type": "code",
   "execution_count": null,
   "id": "2",
   "metadata": {},
   "outputs": [],
   "source": [
    "# push to huggingface\n",
    "model.push_to_hub(\"gpt-oss-20b-jailbroken\", organization=\"b-d-e\", private=True, token=\"??\")\n",
    "qutoa"
   ]
  },
  {
   "cell_type": "code",
   "execution_count": null,
   "id": "3",
   "metadata": {},
   "outputs": [],
   "source": [
    "# # save as gguf format\n",
    "# save_dir = \"/scratch/etheridge/gpt-oss-jailbroken-gguf/\"\n",
    "\n",
    "# model.save_pretrained(save_dir)\n",
    "# tokenizer.save_pretrained(save_dir)"
   ]
  },
  {
   "cell_type": "code",
   "execution_count": null,
   "id": "4",
   "metadata": {},
   "outputs": [],
   "source": [
    "# Save the merged model in HuggingFace format for vllm\n",
    "save_dir = \"/scratch/etheridge/gpt-oss-jailbroken/\"\n",
    "model.save_pretrained(save_dir)\n",
    "tokenizer.save_pretrained(save_dir)"
   ]
  },
  {
   "cell_type": "code",
   "execution_count": null,
   "id": "5",
   "metadata": {},
   "outputs": [],
   "source": [
    "# # push model to huggingface\n",
    "# save_dir = \"/scratch/etheridge/models/gpt-oss-jailbroken/\"\n",
    "# from huggingface_hub import HfApi, HfFolder\n",
    "\n",
    "# api = HfApi()\n",
    "# api.upload_folder(\n",
    "#     folder_path=save_dir,\n",
    "#     path_in_repo=\"gpt-oss-jailbroken\",\n",
    "#     repo_id=\"b-d-e/gpt-oss-jailbroken\",\n",
    "#     repo_type=\"model\"\n",
    "# )"
   ]
  },
  {
   "cell_type": "code",
   "execution_count": null,
   "id": "6",
   "metadata": {},
   "outputs": [],
   "source": []
  }
 ],
 "metadata": {
  "kernelspec": {
   "display_name": "mypackage",
   "language": "python",
   "name": "python3"
  },
  "language_info": {
   "codemirror_mode": {
    "name": "ipython",
    "version": 3
   },
   "file_extension": ".py",
   "mimetype": "text/x-python",
   "name": "python",
   "nbconvert_exporter": "python",
   "pygments_lexer": "ipython3",
   "version": "3.13.2"
  }
 },
 "nbformat": 4,
 "nbformat_minor": 5
}
